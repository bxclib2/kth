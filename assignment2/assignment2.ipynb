{
 "cells": [
  {
   "cell_type": "code",
   "execution_count": 135,
   "metadata": {
    "collapsed": false
   },
   "outputs": [],
   "source": [
    "import numpy as np\n",
    "import matplotlib.pyplot as plt\n",
    "import seaborn as sns\n",
    "from scipy.special import gammaln\n",
    "%matplotlib inline"
   ]
  },
  {
   "cell_type": "code",
   "execution_count": 136,
   "metadata": {
    "collapsed": false
   },
   "outputs": [],
   "source": [
    "NORMAL = 0\n",
    "PRIMED = 1\n",
    "\n",
    "class Dice(object):\n",
    "    \n",
    "    @staticmethod\n",
    "    def get_fair_distribution():\n",
    "        return [1./6] * 6\n",
    "    \n",
    "    def __init__(self, distribution=None):\n",
    "        if distribution is None:\n",
    "            distribution = Dice.get_fair_distribution()\n",
    "        self.distribution = distribution\n",
    "    \n",
    "    def roll(self):\n",
    "        roll = np.random.multinomial(1, self.distribution)\n",
    "        return np.argmax(roll) + 1\n",
    "\n",
    "class Casino(object):\n",
    "\n",
    "    def __init__(self, K, primed_table_dice_distribution):\n",
    "        self.normal_tables = np.arange(K)\n",
    "        self.primed_tables = np.arange(K, 2 * K)\n",
    "\n",
    "        self.primed_table_dice_distribution = primed_table_dice_distribution\n",
    "        self.tables = np.append(self.normal_tables, self.primed_tables)\n",
    "\n",
    "    def is_table_primed(self, table):\n",
    "        return table in self.primed_tables\n",
    "\n",
    "    def get_next_table(self, player):\n",
    "        p = 0.5\n",
    "        if len(player.visited_tables) != 0:\n",
    "            p = 1./4 if player.visited_tables[-1] == PRIMED else 3./4\n",
    "\n",
    "        table_type = np.random.binomial(1, p)\n",
    "        if table_type == NORMAL or len(self.primed_tables) == 0:\n",
    "            return self.normal_tables[len(player.visited_tables)]\n",
    "        else:\n",
    "            return self.primed_tables[len(player.visited_tables)]\n",
    "\n",
    "    def roll_table_dice(self, player):\n",
    "        table = player.current_table\n",
    "        is_primed = self.is_table_primed(table)\n",
    "        distribution = [1/6.] * 6 if not is_primed else self.primed_table_dice_distribution\n",
    "        dice = Dice(distribution)\n",
    "        return dice.roll()"
   ]
  },
  {
   "cell_type": "code",
   "execution_count": 173,
   "metadata": {
    "collapsed": true
   },
   "outputs": [],
   "source": [
    "class Player(object):\n",
    "    def __init__(self, casino, nr_tables_to_visit, dice):\n",
    "        self.visited_tables = []\n",
    "        self.current_table = None\n",
    "        self.rolls = []\n",
    "        self.casino = casino\n",
    "        self.nr_tables_to_visit = nr_tables_to_visit\n",
    "        self.dice = dice\n",
    "\n",
    "    def go_to_next_table(self):\n",
    "        table = self.casino.get_next_table(self)\n",
    "        self.current_table = table\n",
    "        self.visited_tables.append(table)\n",
    "\n",
    "    def roll_dices(self):\n",
    "        p_roll = self.dice.roll()\n",
    "        t_roll = self.casino.roll_table_dice(self)\n",
    "        sum_roll = p_roll + t_roll\n",
    "        return sum_roll\n",
    "\n",
    "    def walk_casino(self):\n",
    "        for _ in xrange(self.nr_tables_to_visit):\n",
    "            self.go_to_next_table()\n",
    "            roll = self.roll_dices()\n",
    "            self.rolls.append(roll)\n",
    "        return self.rolls"
   ]
  },
  {
   "cell_type": "code",
   "execution_count": 174,
   "metadata": {
    "collapsed": false
   },
   "outputs": [],
   "source": [
    "K = 10\n",
    "N = 5000\n",
    "c = Casino(K, primed_table_dice_distribution=[5./10] + 5 * [1./10])\n",
    "players = []\n",
    "player_dice_distribution = [1./7] * 5 + [2./7]\n",
    "dice = Dice(player_dice_distribution)\n",
    "for _ in xrange(N):\n",
    "    players.append(Player(c, nr_tables_to_visit=K, dice=dice))\n",
    "\n",
    "all_rolls = []\n",
    "for n in xrange(N):\n",
    "    rolls = players[n].walk_casino()\n",
    "    all_rolls = all_rolls + rolls\n",
    "\n",
    "# print \"all: %s\" % all_rolls"
   ]
  },
  {
   "cell_type": "code",
   "execution_count": 175,
   "metadata": {
    "collapsed": false
   },
   "outputs": [
    {
     "data": {
      "text/plain": [
       "(2, 12)"
      ]
     },
     "execution_count": 175,
     "metadata": {},
     "output_type": "execute_result"
    },
    {
     "data": {
      "image/png": "[encoded data removed]",
      "text/plain": [
       "<matplotlib.figure.Figure at 0x10e44b3d0>"
      ]
     },
     "metadata": {},
     "output_type": "display_data"
    }
   ],
   "source": [
    "# h = np.histogram2d(np.arange(0, 12), all_rolls)\n",
    "# print h\n",
    "n, bins, patches = plt.hist(all_rolls, bins=11)\n",
    "plt.xlim(2,12)"
   ]
  },
  {
   "cell_type": "code",
   "execution_count": 176,
   "metadata": {
    "collapsed": false
   },
   "outputs": [],
   "source": [
    "n = 6\n",
    "possible_outcomes = np.arange(1, n + 1)\n",
    "mu = 1./n * np.sum(possible_outcomes)\n",
    "var = 1./n * np.sum((possible_outcomes - mu)**2)"
   ]
  },
  {
   "cell_type": "code",
   "execution_count": 164,
   "metadata": {
    "collapsed": true
   },
   "outputs": [],
   "source": [
    "from numpy import sqrt,pi,vectorize,exp\n",
    "from scipy.special import gamma\n",
    "\n",
    "# plotting functions\n",
    "def plot_1d_pdf(pdf_func, X):\n",
    "    Y = pdf_func(X)\n",
    "    plt.plot(X, Y)\n",
    "    plt.grid()\n",
    "    plt.show()\n",
    "\n",
    "\n",
    "def plot_2d_pdf(pdf_func, X, Y):\n",
    "    Z = pdf_func(*np.meshgrid(X, Y))\n",
    "    plt.contour(X, Y, Z, linewidths=np.arange(.5, 8, .5))\n",
    "\n",
    "    plt.xlabel('mu')\n",
    "    plt.ylabel('sigma')\n",
    "    plt.axis([-1,1,0,2])\n",
    "    plt.grid()\n",
    "\n",
    "\n",
    "# pdf factory functions\n",
    "def get_gamma_pdf(a, b):\n",
    "    return vectorize(lambda x: b**a / gamma(a) * x**(a-1) * exp(-x*b))\n",
    "\n",
    "def get_gaussian_pdf(mu, sigma):\n",
    "    return vectorize(lambda x: (1. / (sqrt(sigma*2*pi))) * exp(-(x-mu)**2/(2*sigma**2)))\n",
    "\n",
    "\n",
    "def get_gaussian_gamma_pdf(mu, lamb, a, b):\n",
    "    const = (b**a)*sqrt(lamb) / (gamma(a) * sqrt(2*pi))\n",
    "    return vectorize(lambda x, tau: const * tau**(a-0.5) * exp(-b*tau - 0.5*lamb*tau*(x-mu)**2))\n",
    "\n",
    "def get_vi_gaussian_gamma_pdf(mu, lamb, a, b):\n",
    "    gamma_pdf = get_gamma_pdf(a, b)\n",
    "    gaussian_pdf = get_gaussian_pdf(mu, lamb)\n",
    "    return vectorize(lambda x, tau: gaussian_pdf(x) * gamma_pdf(tau))\n",
    "\n",
    "def normalGammaPdf(mu, lamb, muprior, kappa, alpha, beta):\n",
    "    C = (beta ^ alpha * sqrt(kappa)) / (gamma(alpha) * sqrt(2*pi));\n",
    "    p = C * (lamb**(alpha-1/2)) * (exp(-beta * lamb)) * (exp(-kappa/2* (lamb * (mu - muprior)**2)));\n",
    "    return p"
   ]
  },
  {
   "cell_type": "code",
   "execution_count": 165,
   "metadata": {
    "collapsed": false
   },
   "outputs": [
    {
     "data": {
      "image/png": "[encoded data removed]",
      "text/plain": [
       "<matplotlib.figure.Figure at 0x10e8348d0>"
      ]
     },
     "metadata": {},
     "output_type": "display_data"
    }
   ],
   "source": [
    "mu0 = 0\n",
    "var0 = 1.\n",
    "precision = 1. / (var0**2)\n",
    "\n",
    "c = 0\n",
    "\n",
    "N = 10\n",
    "X = np.random.normal(mu0, var0, N)\n",
    "muX = np.mean(X)\n",
    "varX = np.var(X)\n",
    "s = np.sum(X)\n",
    "sSq = np.sum(X**2)\n",
    "\n",
    "# true posterior\n",
    "a0 = 0\n",
    "b0 = 0\n",
    "k0 = 0\n",
    "mu0 = 0\n",
    "\n",
    "aNt = a0 + N/2.\n",
    "bNt = b0 + 1./2*(N*varX + (k0*N*(muX - mu0)**2)/(k0 + N))\n",
    "mut = (k0*mu0 + N*muX) / (k0 + N)\n",
    "kNt = k0 + N\n",
    "  \n",
    "# initial guess\n",
    "aN = 2.5\n",
    "bN = 1.\n",
    "muN = 0.5\n",
    "kN = 1.\n",
    "\n",
    "for i in xrange(100):\n",
    "    precision = aN/bN\n",
    "    muN = (k0 * mu0 + N * muX) / (k0 + N)\n",
    "    kN = (k0 + N) * precision\n",
    "    \n",
    "    e_mu = muN\n",
    "    e_mu2 = 1./kN + muN**2\n",
    "    aN = a0 + (N + 1)/2.\n",
    "    bN = b0 + k0 * (e_mu2 + mu0**2 - 2*e_mu*mu0) + 1./2 * np.sum(X**2 + e_mu2 - 2*e_mu*X)\n",
    "    #bN = b0 + 1./2 * ((sSq + k0 + mu0**2) - 2 * e_mu * (s + k0 * mu0) + e_mu2 * (k0 + N))\n",
    "\n",
    "x = np.linspace(muN-1.5, muN+1.5, 300)\n",
    "y = np.linspace(0, 2, 300)\n",
    "plot_2d_pdf(get_gaussian_gamma_pdf(mut, kNt, aNt, bNt), x, y)\n",
    "plot_2d_pdf(get_vi_gaussian_gamma_pdf(muN, 1./kN, aN, bN), x, y)\n",
    "plt.show()"
   ]
  },
  {
   "cell_type": "code",
   "execution_count": 449,
   "metadata": {
    "collapsed": false
   },
   "outputs": [],
   "source": [
    "def getA():\n",
    "    return np.asarray([[1./4, 3./4], [3./4, 1./4]])\n",
    "\n",
    "def getPi():\n",
    "    return np.asarray([0.5, 0.5])\n",
    "\n",
    "def getB(p_dist, c_dist):\n",
    "    B = np.zeros((2, 13))\n",
    "    fair = Dice.get_fair_distribution()\n",
    "    B[NORMAL,:] = np.insert(combineDistributions(p_dist, fair), 0, [0,0])\n",
    "    B[PRIMED,:] = np.insert(combineDistributions(p_dist, c_dist), 0, [0,0])\n",
    "    return B\n",
    "\n",
    "def combineDistributions(d1, d2):\n",
    "    dist = np.convolve(d1, d2)\n",
    "    return dist\n",
    "\n",
    "def getAlpha(O, A, B, pi):\n",
    "    observation_length = len(O)\n",
    "    nr_states = 2\n",
    "    alpha = np.zeros(observation_length * nr_states).reshape(observation_length, nr_states)\n",
    "\n",
    "    C = [0.] * observation_length\n",
    "    for i in range(nr_states):\n",
    "        alpha[0,i] = pi[i] * B[i, O[0]]\n",
    "        C[0] += alpha[0,i]\n",
    "\n",
    "    if C[0] != 0:\n",
    "        C[0] = 1./C[0]\n",
    "        \n",
    "    for i in range(nr_states):\n",
    "        alpha[0][i] *= C[0]\n",
    "    \n",
    "    for t in range(1, observation_length):\n",
    "        C[t] = 0\n",
    "        for i in range(nr_states):\n",
    "            alpha[t][i] = 0\n",
    "            for j in range(nr_states):\n",
    "                alpha[t,i] += alpha[t-1,j] * A[j,i]\n",
    "\n",
    "            alpha[t,i] *= B[i, O[t]]\n",
    "            C[t] += alpha[t,i]\n",
    "\n",
    "        if C[t] != 0:\n",
    "            C[t] = 1./C[t]\n",
    "        \n",
    "        for i in range(nr_states):\n",
    "            alpha[t,i] *= C[t]\n",
    "            \n",
    "    return alpha"
   ]
  },
  {
   "cell_type": "code",
   "execution_count": 474,
   "metadata": {
    "collapsed": false
   },
   "outputs": [],
   "source": [
    "def sampleFromPosterior(O, p_loaded, c_loaded):\n",
    "    A = getA()\n",
    "    B = getB(p_loaded, c_loaded)\n",
    "    pi = getPi()\n",
    "    alpha = getAlpha(O, A, B, pi)\n",
    "\n",
    "    nr_states = len(A)\n",
    "    nr_observations = len(O)\n",
    "\n",
    "    evidence = 0\n",
    "    for i in range(nr_states):\n",
    "        evidence += alpha[-1][i]\n",
    "        \n",
    "    p0 = alpha[-1][0] / evidence\n",
    "    rk = np.random.binomial(1,p0)\n",
    "    stateSequence = []\n",
    "    for i in reversed(range(nr_observations-1)):\n",
    "        rkPrev = []\n",
    "        for previous in range(nr_states):\n",
    "            rkPrev.append(A[previous][rk]*alpha[i][previous])\n",
    "        factor = 0\n",
    "        for i in range(nr_states):\n",
    "            factor += rkPrev[i]\n",
    "        probRkPrev = rkPrev[1]/factor\n",
    "        stateSequence.append(np.random.binomial(1,probRkPrev))\n",
    "\n",
    "    stateSequence = stateSequence[::-1]\n",
    "    stateSequence.append(rk)\n",
    "    return stateSequence"
   ]
  },
  {
   "cell_type": "code",
   "execution_count": 509,
   "metadata": {
    "collapsed": false
   },
   "outputs": [
    {
     "name": "stdout",
     "output_type": "stream",
     "text": [
      "rolls: [[7, 7, 6, 6, 9, 8, 3, 5, 5, 8]]\n",
      "actual: [0, 1, 1, 1, 0, 1, 1, 1, 1, 1]\n",
      "guess: [[1 1 1 0 0 1 1 0 1 0]]\n"
     ]
    }
   ],
   "source": [
    "from scipy import stats\n",
    "\n",
    "K = 10\n",
    "N = 1\n",
    "\n",
    "p_loaded = Dice.get_fair_distribution()#5 * [1./10] + [5./10]\n",
    "#c_loaded = [5./10] + [1./10] * 5\n",
    "c_loaded = [5./10] + [5./10] + [0.] * 4\n",
    "\n",
    "c = Casino(K, primed_table_dice_distribution=c_loaded)\n",
    "players = []\n",
    "dice = Dice(p_loaded)\n",
    "for _ in xrange(N):\n",
    "    players.append(Player(c, nr_tables_to_visit=K, dice=dice))\n",
    "\n",
    "all_rolls = []\n",
    "for n in xrange(N):\n",
    "    rolls = players[n].walk_casino()\n",
    "    all_rolls.append(rolls)\n",
    "\n",
    "print \"rolls: %s\" % all_rolls\n",
    "#sample_from_posterior(all_rolls)\n",
    "actual = map(lambda r: 1 if c.is_table_primed(r) else 0, players[0].visited_tables)\n",
    "print 'actual: %s' % actual\n",
    "\n",
    "samples = []\n",
    "for i in xrange(len(all_rolls)):\n",
    "    samples.append(sampleFromPosterior(all_rolls[i], p_loaded, c_loaded))\n",
    "    \n",
    "print 'guess: %s' % stats.mode(samples)[0]"
   ]
  },
  {
   "cell_type": "code",
   "execution_count": null,
   "metadata": {
    "collapsed": false
   },
   "outputs": [],
   "source": []
  },
  {
   "cell_type": "code",
   "execution_count": null,
   "metadata": {
    "collapsed": true
   },
   "outputs": [],
   "source": []
  }
 ],
 "metadata": {
  "kernelspec": {
   "display_name": "Python 2",
   "language": "python",
   "name": "python2"
  },
  "language_info": {
   "codemirror_mode": {
    "name": "ipython",
    "version": 2
   },
   "file_extension": ".py",
   "mimetype": "text/x-python",
   "name": "python",
   "nbconvert_exporter": "python",
   "pygments_lexer": "ipython2",
   "version": "2.7.12"
  }
 },
 "nbformat": 4,
 "nbformat_minor": 0
}
