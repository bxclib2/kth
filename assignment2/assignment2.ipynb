{
 "cells": [
  {
   "cell_type": "code",
   "execution_count": 4,
   "metadata": {
    "collapsed": true
   },
   "outputs": [],
   "source": [
    "import numpy as np\n",
    "import matplotlib.pyplot as plt\n",
    "import seaborn as sns\n",
    "%matplotlib inline"
   ]
  },
  {
   "cell_type": "code",
   "execution_count": 26,
   "metadata": {
    "collapsed": true
   },
   "outputs": [],
   "source": [
    "NORMAL = 0\n",
    "PRIMED = 1\n",
    "\n",
    "class Dice(object):\n",
    "    @staticmethod\n",
    "    def roll(p=[1./6] * 6):\n",
    "        roll = np.random.multinomial(1, p)\n",
    "        return np.argmax(roll) + 1\n",
    "\n",
    "class Casino(object):\n",
    "\n",
    "    def __init__(self, K, primed_table_dice_distribution):\n",
    "        self.normal_tables = np.arange(K)\n",
    "        self.primed_tables = np.arange(K, 2 * K)\n",
    "\n",
    "        self.primed_table_dice_distribution = primed_table_dice_distribution\n",
    "        self.tables = np.append(self.normal_tables, self.primed_tables)\n",
    "\n",
    "    def is_table_primed(self, table):\n",
    "        return table in self.primed_tables\n",
    "\n",
    "    def get_next_table(self, player):\n",
    "        p = 0.5\n",
    "        if len(player.visited_tables) != 0:\n",
    "            p = 1./4 if player.visited_tables[-1] == PRIMED else 3./4\n",
    "\n",
    "        table_type = np.random.binomial(1, p)\n",
    "        if table_type == NORMAL or len(self.primed_tables) == 0:\n",
    "            return self.normal_tables[len(player.visited_tables)]\n",
    "        else:\n",
    "            return self.primed_tables[len(player.visited_tables)]\n",
    "\n",
    "    def roll_table_dice(self, player):\n",
    "        table = player.current_table\n",
    "        is_primed = self.is_table_primed(table)\n",
    "        p = [1/6.] * 6 if not is_primed else self.primed_table_dice_distribution\n",
    "        return Dice.roll(p)"
   ]
  },
  {
   "cell_type": "code",
   "execution_count": 27,
   "metadata": {
    "collapsed": true
   },
   "outputs": [],
   "source": [
    "class Player(object):\n",
    "    def __init__(self, casino, tables_to_visit, dice_distribution):\n",
    "        self.visited_tables = []\n",
    "        self.current_table = None\n",
    "        self.rolls = []\n",
    "        self.casino = casino\n",
    "        self.go_to_next_table()\n",
    "        self.nr_tables_to_visit = tables_to_visit\n",
    "        self.dice_distribution = dice_distribution\n",
    "\n",
    "    def go_to_next_table(self):\n",
    "        table = self.casino.get_next_table(self)\n",
    "        self.current_table = table\n",
    "        self.visited_tables.append(table)\n",
    "\n",
    "    def roll_player_dice(self):\n",
    "        return np.random.multinomial(1, self.dice_distribution)\n",
    "\n",
    "    def roll_dices(self):\n",
    "        p_roll = Dice.roll(self.dice_distribution)\n",
    "#         print \"my roll (primed %s): %s\" % (self.dice_distribution, str(p_roll))\n",
    "        t_roll = self.casino.roll_table_dice(self)\n",
    "#         print \"table roll (primed %s): %s\" % (self.casino.is_table_primed(self.current_table), str(t_roll))\n",
    "        sum_roll = p_roll + t_roll\n",
    "        self.rolls.append(sum_roll)\n",
    "\n",
    "    def walk_casino(self):\n",
    "        for _ in xrange(self.nr_tables_to_visit):\n",
    "            self.roll_dices()\n",
    "        return self.rolls"
   ]
  },
  {
   "cell_type": "code",
   "execution_count": 46,
   "metadata": {
    "collapsed": false
   },
   "outputs": [],
   "source": [
    "K = 10\n",
    "N = 5000\n",
    "c = Casino(K, primed_table_dice_distribution=[5./10] + 5 * [1./10])\n",
    "players = []\n",
    "player_dice_distribution = [1./7] * 5 + [2./7]\n",
    "for _ in xrange(N):\n",
    "    players.append(Player(c, tables_to_visit=K, dice_distribution=player_dice_distribution))\n",
    "\n",
    "all_rolls = []\n",
    "for n in xrange(N):\n",
    "    rolls = players[n].walk_casino()\n",
    "    all_rolls = all_rolls + rolls\n",
    "\n",
    "# print \"all: %s\" % all_rolls"
   ]
  },
  {
   "cell_type": "code",
   "execution_count": 47,
   "metadata": {
    "collapsed": false
   },
   "outputs": [
    {
     "data": {
      "text/plain": [
       "(2, 12)"
      ]
     },
     "execution_count": 47,
     "metadata": {},
     "output_type": "execute_result"
    },
    {
     "data": {
      "image/png": "[encoded data removed]",
      "text/plain": [
       "<matplotlib.figure.Figure at 0x10d366510>"
      ]
     },
     "metadata": {},
     "output_type": "display_data"
    }
   ],
   "source": [
    "# h = np.histogram2d(np.arange(0, 12), all_rolls)\n",
    "# print h\n",
    "n, bins, patches = plt.hist(all_rolls, bins=11)\n",
    "plt.xlim(2,12)"
   ]
  },
  {
   "cell_type": "code",
   "execution_count": null,
   "metadata": {
    "collapsed": true
   },
   "outputs": [],
   "source": []
  }
 ],
 "metadata": {
  "kernelspec": {
   "display_name": "Python 2",
   "language": "python",
   "name": "python2"
  },
  "language_info": {
   "codemirror_mode": {
    "name": "ipython",
    "version": 2
   },
   "file_extension": ".py",
   "mimetype": "text/x-python",
   "name": "python",
   "nbconvert_exporter": "python",
   "pygments_lexer": "ipython2",
   "version": "2.7.12"
  }
 },
 "nbformat": 4,
 "nbformat_minor": 0
}
