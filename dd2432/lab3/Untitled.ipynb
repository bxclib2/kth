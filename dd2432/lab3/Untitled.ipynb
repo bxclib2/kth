{
 "cells": [
  {
   "cell_type": "code",
   "execution_count": 2,
   "metadata": {
    "collapsed": true
   },
   "outputs": [],
   "source": [
    "from animals import *\n",
    "from cities import city\n",
    "import numpy as np\n",
    "from numpy import linalg as LA"
   ]
  },
  {
   "cell_type": "code",
   "execution_count": 3,
   "metadata": {
    "collapsed": false
   },
   "outputs": [
    {
     "name": "stdout",
     "output_type": "stream",
     "text": [
      "(32, 84)\n"
     ]
    }
   ],
   "source": [
    "print props.shape"
   ]
  },
  {
   "cell_type": "code",
   "execution_count": 4,
   "metadata": {
    "collapsed": false
   },
   "outputs": [
    {
     "name": "stdout",
     "output_type": "stream",
     "text": [
      "sort pos: [26  0 14  6 25 16  1 30 17 21  5 15  4 10 23 11 24 22 13 28  8 31  3 18  9\n",
      " 29 20  7 27  2 12 19]\n",
      "snames: [['rabbit' 'antelop' 'giraffe' 'camel' 'pig' 'horse' 'ape' 'spider'\n",
      "  'housefly' 'moskito' 'butterfly' 'grasshopper' 'beetle' 'dragonfly'\n",
      "  'pelican' 'duck' 'penguin' 'ostrich' 'frog' 'seaturtle' 'crocodile'\n",
      "  'walrus' 'bear' 'hyena' 'dog' 'skunk' 'lion' 'cat' 'rat' 'bat' 'elephant'\n",
      "  'kangaroo']]\n"
     ]
    }
   ],
   "source": [
    "class SOM(object):\n",
    "    def __init__(self, inputs, nr_output_nodes):\n",
    "        nr_features = inputs.shape[1]\n",
    "        self.inputs = inputs\n",
    "        self.weights = np.random.uniform(0, 1, size=(nr_output_nodes, nr_features))\n",
    "        \n",
    "    def neighbor_indices(self, inputs, i, n):\n",
    "        N = inputs.shape[0] \n",
    "        if i - n < 0 and i + n > 0:\n",
    "            indices = np.arange(i-n,i+n+1)\n",
    "        elif i-n < N - 1 and i+n > N - 1:\n",
    "            rest = i+n - N\n",
    "            indices = np.hstack([np.arange(0,rest), np.arange(i-n,N)])\n",
    "        else:\n",
    "            indices = np.arange(i-n, i+n+1)\n",
    "        return indices\n",
    "\n",
    "    def fit(self, nr_neighbors=50):\n",
    "        max_epochs = 20\n",
    "        step_neighbors = 1.0*nr_neighbors / (max_epochs - 1)\n",
    "        step_size = 0.2\n",
    "        for epoch in xrange(max_epochs):\n",
    "            for i in xrange(len(self.inputs)):\n",
    "                properties = self.inputs[i]\n",
    "                diff = properties - self.weights\n",
    "                diff_norm = LA.norm(diff, axis=1)\n",
    "                min_diff_idx = np.argmin(diff_norm)\n",
    "                min_diff = diff[min_diff_idx]\n",
    "\n",
    "                n = int(np.round(nr_neighbors/2))\n",
    "                #print('n: {}'.format(n))\n",
    "                winner_indices = self.neighbor_indices(self.weights, min_diff_idx, n)\n",
    "                self.weights[winner_indices] += step_size * (properties - self.weights[winner_indices])\n",
    "            nr_neighbors -= step_neighbors\n",
    "    \n",
    "    def get_winners(self):\n",
    "        pos = np.empty(self.inputs.shape[0], dtype=np.int32)\n",
    "        for i in xrange(len(pos)):\n",
    "            features = self.inputs[i]\n",
    "            diff = features - self.weights\n",
    "            diff_norm = LA.norm(diff, axis=1)\n",
    "            min_diff_idx = np.argmin(diff_norm)\n",
    "            pos[i] = min_diff_idx\n",
    "        return pos\n",
    "    \n",
    "som = SOM(props, 100)\n",
    "som.fit(nr_neighbors=50)\n",
    "pos = som.get_winners()\n",
    "sort_pos_idx = np.argsort(pos)\n",
    "sort_pos_idx\n",
    "print('sort pos: {}'.format(sort_pos_idx))\n",
    "print('snames: {}'.format(np.take(snames, [sort_pos_idx])))"
   ]
  },
  {
   "cell_type": "code",
   "execution_count": 5,
   "metadata": {
    "collapsed": false
   },
   "outputs": [
    {
     "name": "stderr",
     "output_type": "stream",
     "text": [
      "/usr/local/lib/python2.7/site-packages/matplotlib/font_manager.py:273: UserWarning: Matplotlib is building the font cache using fc-list. This may take a moment.\n",
      "  warnings.warn('Matplotlib is building the font cache using fc-list. This may take a moment.')\n"
     ]
    },
    {
     "name": "stdout",
     "output_type": "stream",
     "text": [
      "[[ 0.86218533  0.64486646]\n",
      " [ 0.69659529  0.52728968]\n",
      " [ 0.60751346  0.68846337]\n",
      " [ 0.50353625  0.93224318]\n",
      " [ 0.24662043  0.76152761]\n",
      " [ 0.38361955  0.44289577]\n",
      " [ 0.2038484   0.19320645]\n",
      " [ 0.46881329  0.23502761]\n",
      " [ 0.64169619  0.25936045]\n",
      " [ 0.8356236   0.35967416]\n",
      " [ 0.86218533  0.64486646]]\n"
     ]
    },
    {
     "data": {
      "text/plain": [
       "[<matplotlib.lines.Line2D at 0x10c4b6e10>]"
      ]
     },
     "execution_count": 5,
     "metadata": {},
     "output_type": "execute_result"
    },
    {
     "data": {
      "image/png": "[encoded data removed]",
      "text/plain": [
       "<matplotlib.figure.Figure at 0x10b857250>"
      ]
     },
     "metadata": {},
     "output_type": "display_data"
    }
   ],
   "source": [
    "import matplotlib.pyplot as plt\n",
    "%matplotlib inline\n",
    "cities = np.array(city)\n",
    "som = SOM(cities, 10)\n",
    "som.fit(2)\n",
    "winners = som.get_winners()\n",
    "w = som.weights\n",
    "\n",
    "#print w\n",
    "tour = np.vstack((w, w[0,:]))\n",
    "print tour\n",
    "plt.scatter(cities[:,0], cities[:,1])\n",
    "plt.plot(tour[:,0], tour[:,1])"
   ]
  },
  {
   "cell_type": "code",
   "execution_count": 6,
   "metadata": {
    "collapsed": false
   },
   "outputs": [
    {
     "name": "stdout",
     "output_type": "stream",
     "text": [
      "x: 9, y: 8\n",
      "[[ 0.  0.  0.  0.  0.  0.  0.  0.  0.  0.]\n",
      " [ 0.  0.  0.  0.  0.  0.  0.  0.  0.  0.]\n",
      " [ 0.  0.  0.  0.  0.  0.  0.  0.  0.  0.]\n",
      " [ 0.  0.  0.  0.  0.  0.  0.  0.  0.  0.]\n",
      " [ 0.  0.  0.  0.  0.  0.  0.  0.  0.  0.]\n",
      " [ 0.  0.  0.  0.  0.  0.  0.  0.  0.  0.]\n",
      " [ 0.  0.  0.  0.  0.  0.  0.  0.  0.  0.]\n",
      " [ 0.  0.  0.  0.  0.  0.  0.  0.  0.  0.]\n",
      " [ 0.  0.  0.  0.  0.  0.  0.  0.  0.  0.]\n",
      " [ 0.  0.  0.  0.  0.  0.  0.  0.  0.  0.]]\n",
      "n: [(7, 6), (7, 7), (7, 8), (7, 9), (8, 6), (8, 7), (8, 8), (8, 9), (9, 6), (9, 7), (9, 8), (9, 9)]\n",
      "[[ 0.  0.  0.  0.  0.  0.  0.  0.  0.  0.]\n",
      " [ 0.  0.  0.  0.  0.  0.  0.  0.  0.  0.]\n",
      " [ 0.  0.  0.  0.  0.  0.  0.  0.  0.  0.]\n",
      " [ 0.  0.  0.  0.  0.  0.  0.  0.  0.  0.]\n",
      " [ 0.  0.  0.  0.  0.  0.  0.  0.  0.  0.]\n",
      " [ 0.  0.  0.  0.  0.  0.  0.  0.  0.  0.]\n",
      " [ 0.  0.  0.  0.  0.  0.  0.  1.  1.  1.]\n",
      " [ 0.  0.  0.  0.  0.  0.  0.  1.  1.  1.]\n",
      " [ 0.  0.  0.  0.  0.  0.  0.  1.  1.  1.]\n",
      " [ 0.  0.  0.  0.  0.  0.  0.  1.  1.  1.]]\n"
     ]
    }
   ],
   "source": [
    "from itertools import product, starmap\n",
    "\n",
    "a = np.zeros(100)\n",
    "i = 89\n",
    "img = a.reshape(10,10)\n",
    "# img[xpos[i],ypos[i]] = 1\n",
    "\n",
    "def neighbours(cell, size=10, nr_neighbors=2):\n",
    "    for c in product(*(xrange(n-nr_neighbors, n+nr_neighbors+1) for n in cell)):\n",
    "        if all(0 <= n < size for n in c):\n",
    "            yield c\n",
    "            \n",
    "x = np.arange(10)\n",
    "y = x\n",
    "xx,yy = np.meshgrid(x,y, indexing='xy')\n",
    "\n",
    "xpos = np.reshape(xx, -1)\n",
    "ypos = np.reshape(yy, -1)\n",
    "\n",
    "print('x: {}, y: {}'.format(xpos[i], ypos[i]))\n",
    "print a.reshape(10,10)\n",
    "\n",
    "print('n: {}'.format(list(neighbours((xpos[i], ypos[i])))))\n",
    "\n",
    "for n in neighbours((ypos[i], xpos[i])):\n",
    "    img[n] = 1\n",
    "\n",
    "print a.reshape(10,10)\n",
    "\n",
    "# a[8,7]"
   ]
  },
  {
   "cell_type": "code",
   "execution_count": 7,
   "metadata": {
    "collapsed": false
   },
   "outputs": [],
   "source": [
    "from votes import *\n",
    "from mpsex import *\n",
    "from mpdistrict import *\n",
    "from mpparty import *\n",
    "\n",
    "nr_members = 349\n",
    "nr_votes = 31\n",
    "\n",
    "votes = np.array(votes).reshape(nr_members,nr_votes)\n",
    "mpsex = np.array(mpsex)\n",
    "mpdistrict = np.array(mpdistrict)\n",
    "mpparty = np.array(mpparty)"
   ]
  },
  {
   "cell_type": "code",
   "execution_count": 8,
   "metadata": {
    "collapsed": false
   },
   "outputs": [],
   "source": [
    "from itertools import product, starmap\n",
    "\n",
    "class SOM2d(object):\n",
    "    def __init__(self, inputs, output_shape):\n",
    "        nr_features = inputs.shape[1]\n",
    "        self.inputs = inputs\n",
    "        self.weights = np.random.uniform(0, 1, size=(np.prod(output_shape), nr_features))\n",
    "        \n",
    "        x = np.arange(output_shape[0])\n",
    "        y = np.arange(output_shape[1])\n",
    "        xx,yy = np.meshgrid(x,y, indexing='xy')\n",
    "        self.xpos = np.reshape(xx, -1)\n",
    "        self.ypos = np.reshape(yy, -1)\n",
    "        self.output_shape = output_shape\n",
    "        \n",
    "    def neighbors(self, cell, size, nr_neighbors=1):\n",
    "        for c in product(*(xrange(n-nr_neighbors, n+nr_neighbors+1) for n in cell)):\n",
    "            if all(0 <= n < size for n in c):\n",
    "                yield c\n",
    "\n",
    "    def fit(self, nr_neighbors=50):\n",
    "        max_epochs = 40\n",
    "        step_neighbors = 1.0*nr_neighbors / (max_epochs - 1)\n",
    "        step_size = 0.2\n",
    "        for epoch in xrange(max_epochs):\n",
    "            for i in xrange(len(self.inputs)):\n",
    "                properties = self.inputs[i]\n",
    "                diff = properties - self.weights\n",
    "                diff_norm = LA.norm(diff, axis=1)\n",
    "                min_diff_idx = np.argmin(diff_norm)\n",
    "                min_diff = diff[min_diff_idx]\n",
    "\n",
    "                n = int(np.round(nr_neighbors/4))\n",
    "                cell = (xpos[min_diff_idx], ypos[min_diff_idx])\n",
    "                winner_indices = self.neighbors(cell, self.output_shape[0], nr_neighbors=n)\n",
    "\n",
    "                img = self.weights.reshape(self.output_shape[0], self.output_shape[1], -1)\n",
    "                for w in winner_indices:\n",
    "                    img[w] += step_size * (properties - img[w])\n",
    "            nr_neighbors -= step_neighbors\n",
    "    \n",
    "    def get_winners(self):\n",
    "        pos = np.empty(self.inputs.shape[0], dtype=np.int32)\n",
    "        for i in xrange(len(pos)):\n",
    "            features = self.inputs[i]\n",
    "            diff = features - self.weights\n",
    "            diff_norm = LA.norm(diff, axis=1)\n",
    "            min_diff_idx = np.argmin(diff_norm)\n",
    "            pos[i] = min_diff_idx\n",
    "        return pos\n",
    "    "
   ]
  },
  {
   "cell_type": "code",
   "execution_count": 9,
   "metadata": {
    "collapsed": false
   },
   "outputs": [
    {
     "name": "stdout",
     "output_type": "stream",
     "text": [
      "(100,)\n",
      "pos: (349,)\n"
     ]
    },
    {
     "data": {
      "text/plain": [
       "<matplotlib.colorbar.Colorbar at 0x10fb65e10>"
      ]
     },
     "execution_count": 9,
     "metadata": {},
     "output_type": "execute_result"
    },
    {
     "data": {
      "image/png": "[encoded data removed]",
      "text/plain": [
       "<matplotlib.figure.Figure at 0x10b84c110>"
      ]
     },
     "metadata": {},
     "output_type": "display_data"
    }
   ],
   "source": [
    "colors = [(0,0,0),(0,0,1),(0,1,1),(1,0,1),(1,0,0),(0,1,0),(1,1,1),(1,1,0)]\n",
    "from matplotlib.colors import ListedColormap\n",
    "cmap = ListedColormap(colors, 'indexed')\n",
    "\n",
    "som = SOM2d(votes, output_shape=(10,10))\n",
    "som.fit(nr_neighbors=20)\n",
    "winners = som.get_winners()\n",
    "winners\n",
    "pos = winners\n",
    "\n",
    "a = np.empty(100, dtype=np.int32)\n",
    "a[:] = np.ones(100).dot(349)\n",
    "\n",
    "print a.shape\n",
    "print('pos: {}'.format(pos.shape))\n",
    "a[pos] = np.arange(349)\n",
    "\n",
    "p = np.hstack([mpparty, 0])\n",
    "a_reshape = a.reshape(10,10)\n",
    "img = p[a].reshape(10,10)\n",
    "im = plt.imshow(img, cmap, interpolation='nearest')\n",
    "plt.colorbar()"
   ]
  },
  {
   "cell_type": "code",
   "execution_count": 10,
   "metadata": {
    "collapsed": false
   },
   "outputs": [
    {
     "data": {
      "text/plain": [
       "array([1, 1])"
      ]
     },
     "execution_count": 10,
     "metadata": {},
     "output_type": "execute_result"
    }
   ],
   "source": [
    "from itertools import product\n",
    "weight_size = 3\n",
    "shape = (10,10)\n",
    "num_weights = np.prod(shape)\n",
    "weight_positions = [range(x) for x in shape]\n",
    "codebook = np.array([np.array(x) for x in product(*weight_positions)])\n",
    "weights = np.random.rand(num_weights, weight_size)\n",
    "weights\n",
    "codebook[11]"
   ]
  },
  {
   "cell_type": "code",
   "execution_count": null,
   "metadata": {
    "collapsed": false
   },
   "outputs": [],
   "source": [
    "a = np.random.uniform(0,1,(100,31))\n",
    "img = a.reshape(10,10,-1)\n",
    "\n",
    "print a[34]\n",
    "print img[3,4]"
   ]
  },
  {
   "cell_type": "code",
   "execution_count": null,
   "metadata": {
    "collapsed": true
   },
   "outputs": [],
   "source": []
  }
 ],
 "metadata": {
  "kernelspec": {
   "display_name": "Python 2",
   "language": "python",
   "name": "python2"
  }
 },
 "nbformat": 4,
 "nbformat_minor": 0
}
