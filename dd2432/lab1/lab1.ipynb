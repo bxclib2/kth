{
 "cells": [
  {
   "cell_type": "code",
   "execution_count": 1,
   "metadata": {
    "collapsed": false
   },
   "outputs": [
    {
     "name": "stderr",
     "output_type": "stream",
     "text": [
      "/usr/local/lib/python2.7/site-packages/matplotlib/font_manager.py:273: UserWarning: Matplotlib is building the font cache using fc-list. This may take a moment.\n",
      "  warnings.warn('Matplotlib is building the font cache using fc-list. This may take a moment.')\n"
     ]
    }
   ],
   "source": [
    "import numpy as np\n",
    "import pandas as pd\n",
    "import matplotlib.pyplot as plt\n",
    "%matplotlib inline"
   ]
  },
  {
   "cell_type": "code",
   "execution_count": 72,
   "metadata": {
    "collapsed": false
   },
   "outputs": [],
   "source": [
    "x = np.random.normal(1., 0.5, 100)\n",
    "y = np.random.normal(0.5, 0.5, 100)\n",
    "A = np.asarray([x,y])\n",
    "\n",
    "x = np.random.normal(-1., 0.5, 100)\n",
    "y = np.random.normal(0., 0.5, 100)\n",
    "B = np.asarray([x,y])\n",
    "\n",
    "x = np.empty(100)\n",
    "x[:50] = np.random.normal(-1., 0.2, 50)\n",
    "x[50:] = np.random.normal(1., 0.2, 50)\n",
    "y = np.random.normal(0.3, 0.2, 100)\n",
    "A = np.asarray([x,y])\n",
    "\n",
    "x = np.random.normal(0., 0.3, 100)\n",
    "y = np.random.normal(-0.1, 0.3, 100)\n",
    "B = np.asarray([x,y])"
   ]
  },
  {
   "cell_type": "code",
   "execution_count": 73,
   "metadata": {
    "collapsed": false
   },
   "outputs": [],
   "source": [
    "patterns = np.append(A, B, axis=1)\n",
    "targets = np.append(np.ones(A.shape[1]), np.ones(B.shape[1]) * -1)\n",
    "permutation = np.random.permutation(len(targets))\n",
    "targets = targets[permutation]\n",
    "patterns = patterns[:,permutation]\n",
    "insize, ndata = patterns.shape\n",
    "outsize = targets.shape"
   ]
  },
  {
   "cell_type": "code",
   "execution_count": 74,
   "metadata": {
    "collapsed": false
   },
   "outputs": [
    {
     "data": {
      "text/plain": [
       "<matplotlib.collections.PathCollection at 0x10d49bf50>"
      ]
     },
     "execution_count": 74,
     "metadata": {},
     "output_type": "execute_result"
    },
    {
     "data": {
      "image/png": "[encoded data removed]",
      "text/plain": [
       "<matplotlib.figure.Figure at 0x109f28690>"
      ]
     },
     "metadata": {},
     "output_type": "display_data"
    }
   ],
   "source": [
    "ones = np.where(targets == 1)\n",
    "plt.scatter(patterns[0,ones], patterns[1,ones])"
   ]
  },
  {
   "cell_type": "code",
   "execution_count": 75,
   "metadata": {
    "collapsed": false
   },
   "outputs": [],
   "source": [
    "def delta(X, W, targets, eta=0.001):\n",
    "    return -eta * (W.dot(X) - targets).dot(X.T)"
   ]
  },
  {
   "cell_type": "code",
   "execution_count": 76,
   "metadata": {
    "collapsed": false
   },
   "outputs": [],
   "source": [
    "# W = np.zeros((1, len(patterns)))\n",
    "# W = get_random_weights(W.shape)\n",
    "\n",
    "# fig, axarr = plt.subplots(10,1, figsize=(10,40))\n",
    "# for i in range(10):\n",
    "#     W = delta(patterns, W, targets)\n",
    "#     p = W[0,:2]\n",
    "#     k = -W[0, insize - 1] / p.dot(p.T)\n",
    "#     l = np.sqrt(p.dot(p.T))\n",
    "#     pred = np.where(targets == 1)\n",
    "#     axarr[i].scatter(patterns[0,pred], patterns[1,pred], marker='+')\n",
    "#     pred = np.where(targets == -1)\n",
    "#     axarr[i].scatter(patterns[0,pred], patterns[1,pred], marker='o')\n",
    "#     x = np.array([p[0], p[0]]).dot(k) + [-p[1], p[1]]/l\n",
    "#     y = np.array([p[1], p[1]]).dot(k) + [p[0], -p[0]]/l\n",
    "#     axarr[i].plot(x, y, color='r')"
   ]
  },
  {
   "cell_type": "code",
   "execution_count": null,
   "metadata": {
    "collapsed": true
   },
   "outputs": [],
   "source": []
  },
  {
   "cell_type": "code",
   "execution_count": 82,
   "metadata": {
    "collapsed": false
   },
   "outputs": [],
   "source": [
    "class MLP(object):\n",
    "    \n",
    "    def get_random_weights(self, shape):\n",
    "        return np.random.uniform(low=-1., high=1., size=shape)   \n",
    "    \n",
    "    def __init__(self, X, T, layer_sizes):\n",
    "        self.T = T\n",
    "        self.layer_sizes = layer_sizes\n",
    "        nr_data = X.shape[1]\n",
    "        self.X = self.append_bias(X)\n",
    "        nr_inputs = self.X.shape[0]\n",
    "        nr_outputs = 1 if T.ndim == 1 else T.shape[0]\n",
    "        print 'nr outputs: %s' % nr_outputs\n",
    "\n",
    "        W = []\n",
    "        w = self.get_random_weights((layer_sizes[0], nr_inputs))\n",
    "        W.append(w)\n",
    "        for layer in range(len(layer_sizes) - 1):\n",
    "            shape = (layer_sizes[layer + 1], layer_sizes[layer])\n",
    "            w = self.get_random_weights(shape)\n",
    "            W.append(w)\n",
    "        w = self.get_random_weights((nr_outputs, layer_sizes[-1]))\n",
    "        W.append(w)\n",
    "        self.W = W\n",
    "        \n",
    "    def append_bias(self, X):\n",
    "        return np.append(X, np.ones((1, X.shape[1])), axis=0)\n",
    "        \n",
    "    def phi(self, X):\n",
    "        return 2. / (1 + np.exp(-X)) - 1\n",
    "    \n",
    "    def phi_gradient(self, X):\n",
    "        return ((1 + self.phi(X)) * (1 - self.phi(X))) / 2.\n",
    "        \n",
    "    def forwards(self, X):\n",
    "        nr_data = X.shape[1]\n",
    "        layers = [X]\n",
    "        for layer in range(len(self.W)):\n",
    "            lin = self.W[layer].dot(layers[layer])\n",
    "#             layers.append(np.append(self.phi(lin), np.ones((1, nr_data)), axis=0))\n",
    "            layers.append(self.phi(lin))\n",
    "        return layers\n",
    "    \n",
    "    def backwards(self, layers):\n",
    "        deltas = [(layers[-1] - self.T) * self.phi_gradient(layers[-1])]\n",
    "        \n",
    "        for layer in xrange(len(self.W) - 1, 0, -1):\n",
    "            delta = self.W[layer].T.dot(deltas[-1]) * self.phi_gradient(layers[layer])\n",
    "#             if layer == 0:\n",
    "#                 delta = delta[:len(self.W)]\n",
    "            deltas.append(delta)\n",
    "        deltas.reverse()\n",
    "        return deltas\n",
    "    \n",
    "    def update_weights(self, dW, layers, deltas, eta, alpha):\n",
    "        for layer in range(len(self.W)):\n",
    "            dW[layer] = (dW[layer] * alpha) - (deltas[layer].dot(layers[layer].T)) * (1-alpha);\n",
    "            self.W[layer] += dW[layer] * eta;\n",
    "    \n",
    "    def train(self, max_iterations=1000, eta=0.04, alpha=0.9):\n",
    "        dW = [np.zeros(w.shape) for w in self.W]\n",
    "        for i in range(max_iterations):\n",
    "            layers = mlp.forwards(self.X)\n",
    "            deltas = mlp.backwards(layers)\n",
    "            mlp.update_weights(dW, layers, deltas, eta, alpha)\n",
    "            e = np.sum(np.sum(np.abs(np.sign(layers[-1]) - self.T)/2))\n",
    "        print 'e: %s' % str(e/len(self.T))\n",
    "\n",
    "    def predict(self, X):\n",
    "        X_bias = self.append_bias(X)\n",
    "        return (mlp.forwards(X_bias)[-1])"
   ]
  },
  {
   "cell_type": "code",
   "execution_count": 83,
   "metadata": {
    "collapsed": false
   },
   "outputs": [
    {
     "name": "stdout",
     "output_type": "stream",
     "text": [
      "nr outputs: 1\n",
      "e: 0.498693283866\n"
     ]
    }
   ],
   "source": [
    "mlp = MLP(patterns, targets, layer_sizes=[3])\n",
    "mlp.train()"
   ]
  },
  {
   "cell_type": "code",
   "execution_count": 84,
   "metadata": {
    "collapsed": false
   },
   "outputs": [
    {
     "data": {
      "text/plain": [
       "<matplotlib.collections.PathCollection at 0x10e88e310>"
      ]
     },
     "execution_count": 84,
     "metadata": {},
     "output_type": "execute_result"
    },
    {
     "data": {
      "image/png": "[encoded data removed]",
      "text/plain": [
       "<matplotlib.figure.Figure at 0x10d4b7990>"
      ]
     },
     "metadata": {},
     "output_type": "display_data"
    }
   ],
   "source": [
    "x_min, x_max = patterns[0, :].min(), patterns[0, :].max()\n",
    "y_min, y_max = patterns[1, :].min(), patterns[1, :].max()\n",
    "xx, yy = np.meshgrid(np.arange(x_min, x_max, 0.01), np.arange(y_min, y_max, 0.01))\n",
    "\n",
    "X_space = np.vstack([xx.ravel(), yy.ravel()])\n",
    "Z = mlp.predict(X_space)\n",
    "\n",
    "Z = Z.reshape(xx.shape)\n",
    "plt.contourf(xx, yy, Z, alpha=0.3)\n",
    "\n",
    "pred = np.where(targets == 1)\n",
    "plt.scatter(patterns[0,pred], patterns[1,pred], marker='+')\n",
    "pred = np.where(targets == -1)\n",
    "plt.scatter(patterns[0,pred], patterns[1,pred], marker='o')"
   ]
  },
  {
   "cell_type": "markdown",
   "metadata": {},
   "source": [
    "# Encoding problem"
   ]
  },
  {
   "cell_type": "code",
   "execution_count": 85,
   "metadata": {
    "collapsed": false
   },
   "outputs": [
    {
     "name": "stdout",
     "output_type": "stream",
     "text": [
      "[[ 1. -1. -1. -1. -1. -1. -1. -1.]\n",
      " [-1.  1. -1. -1. -1. -1. -1. -1.]\n",
      " [-1. -1.  1. -1. -1. -1. -1. -1.]\n",
      " [-1. -1. -1.  1. -1. -1. -1. -1.]\n",
      " [-1. -1. -1. -1.  1. -1. -1. -1.]\n",
      " [-1. -1. -1. -1. -1.  1. -1. -1.]\n",
      " [-1. -1. -1. -1. -1. -1.  1. -1.]\n",
      " [-1. -1. -1. -1. -1. -1. -1.  1.]]\n",
      "nr outputs: 8\n",
      "e: 0.0\n",
      "pred: [[ 0.79457937 -1.         -0.84999169 -0.87138687 -0.9999964  -1.\n",
      "  -0.99999942 -1.        ]\n",
      " [-1.          0.68354472 -1.         -0.99999003 -0.99999999 -0.81576725\n",
      "  -0.79830636 -0.99994023]\n",
      " [-0.86931001 -1.          0.77307881 -0.99999678 -0.83090447 -1.         -1.\n",
      "  -0.99998783]\n",
      " [-0.85176044 -0.99998793 -0.99999792  0.80069104 -1.         -1.\n",
      "  -0.89174208 -1.        ]\n",
      " [-0.99999877 -1.         -0.85491949 -1.          0.72651173 -0.99999089\n",
      "  -1.         -0.80771834]\n",
      " [-1.         -0.72012746 -0.99999995 -0.99999998 -0.99978286  0.52483982\n",
      "  -0.99981277 -0.706624  ]\n",
      " [-0.99999317 -0.78625428 -1.         -0.82666363 -1.         -0.99999428\n",
      "   0.67668482 -1.        ]\n",
      " [-1.         -0.99999398 -0.99999632 -1.         -0.84328754 -0.79593119\n",
      "  -1.          0.69741171]]\n"
     ]
    }
   ],
   "source": [
    "encoding_patterns = np.eye(8).dot(2) - 1\n",
    "encoding_targets = encoding_patterns\n",
    "print encoding_patterns\n",
    "mlp = MLP(encoding_patterns, encoding_targets, layer_sizes=[3])\n",
    "mlp.train(eta=0.3, alpha=0.9)\n",
    "predictions = mlp.predict(encoding_patterns)\n",
    "print 'pred: %s' % predictions"
   ]
  },
  {
   "cell_type": "code",
   "execution_count": 95,
   "metadata": {
    "collapsed": false
   },
   "outputs": [
    {
     "name": "stdout",
     "output_type": "stream",
     "text": [
      "(101, 101)\n",
      "(10201,)\n",
      "nr outputs: 1\n",
      "e: 0.350245993486\n",
      "(2, 40401)\n",
      "201\n",
      "(1, 40401)\n"
     ]
    },
    {
     "data": {
      "text/plain": [
       "<mpl_toolkits.mplot3d.art3d.Poly3DCollection at 0x10f10aad0>"
      ]
     },
     "execution_count": 95,
     "metadata": {},
     "output_type": "execute_result"
    },
    {
     "data": {
      "image/png": "[encoded data removed]",
      "text/plain": [
       "<matplotlib.figure.Figure at 0x10dfbfdd0>"
      ]
     },
     "metadata": {},
     "output_type": "display_data"
    }
   ],
   "source": [
    "from mpl_toolkits.mplot3d import Axes3D\n",
    "\n",
    "X = np.arange(-5,5+0.1,0.1).reshape(1,-1).T\n",
    "Y = X\n",
    "Z = np.exp(-(X**2 * 0.1)).dot(np.exp(-(Y**2 * 0.1)).T) - 0.5\n",
    "\n",
    "targets = Z.reshape(-1)\n",
    "print Z.shape\n",
    "print targets.shape\n",
    "xx, yy = np.meshgrid(X, Y)\n",
    "\n",
    "patterns = np.vstack([xx.ravel(), yy.ravel()])\n",
    "\n",
    "mlp = MLP(patterns, targets, layer_sizes=[5,2])\n",
    "mlp.train(eta=0.00051, alpha=0.5, max_iterations=2000)\n",
    "\n",
    "x_test = np.arange(-5,5+0.05,0.05).reshape(1,-1)\n",
    "xx, yy = np.meshgrid(x_test, x_test)\n",
    "test = np.vstack([xx.ravel(), yy.ravel()])\n",
    "out = mlp.predict(test)\n",
    "\n",
    "gridsize = x_test.shape[1]\n",
    "print test.shape\n",
    "print gridsize\n",
    "print out.shape\n",
    "ZZ = out.reshape(gridsize, gridsize)\n",
    "\n",
    "fig = plt.figure()\n",
    "ax = fig.gca(projection='3d')\n",
    "\n",
    "ax.plot_surface(x_test, x_test.T, ZZ, cmap=plt.cm.coolwarm, linewidth=0)"
   ]
  },
  {
   "cell_type": "code",
   "execution_count": null,
   "metadata": {
    "collapsed": true
   },
   "outputs": [],
   "source": []
  },
  {
   "cell_type": "code",
   "execution_count": null,
   "metadata": {
    "collapsed": true
   },
   "outputs": [],
   "source": []
  }
 ],
 "metadata": {
  "kernelspec": {
   "display_name": "Python 2",
   "language": "python",
   "name": "python2"
  },
  "language_info": {
   "codemirror_mode": {
    "name": "ipython",
    "version": 2
   },
   "file_extension": ".py",
   "mimetype": "text/x-python",
   "name": "python",
   "nbconvert_exporter": "python",
   "pygments_lexer": "ipython2",
   "version": "2.7.12"
  }
 },
 "nbformat": 4,
 "nbformat_minor": 0
}
