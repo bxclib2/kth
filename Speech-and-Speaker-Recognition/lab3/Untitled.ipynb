{
 "cells": [
  {
   "cell_type": "code",
   "execution_count": 2,
   "metadata": {
    "collapsed": true
   },
   "outputs": [],
   "source": [
    "# Read and Write PFiles\n",
    "#\n",
    "# Requires the pfile_utils in the path. On KTH machines run\n",
    "# module add quicknet pfile_utils\n",
    "# If you are performing Lab 3B in the DT2118 Speech and Speaker Recognition course, the\n",
    "# above commands are automatically run when you run source tools/modules\n",
    "#\n",
    "# (C) 2016 Giampiero Salvi <giampi@kth.se>\n",
    "\n",
    "import subprocess\n",
    "import numpy as np\n",
    "import sys\n",
    "import os\n",
    "import cPickle, gzip\n",
    "from sklearn import metrics\n",
    "import matplotlib.pyplot as plt\n",
    "%matplotlib inline\n",
    "\n",
    "def pfile_read(filename):\n",
    "    \"\"\" Reads the data in the PFile filename\n",
    "\n",
    "    Returns 4 arrays:\n",
    "    utt_ids: utterance ids repeated for every frame (num_frames)\n",
    "    frame_ids: frame ids (num_frames)\n",
    "    features: array (num_frames, num_features) of feature values\n",
    "    labels: array (num_frames, num_labels) of labels (usually num_labels=1) \n",
    "\n",
    "    See also pfile_write   \n",
    "    \"\"\"\n",
    "    proc = subprocess.Popen('pfile_info -i '+filename, shell=True, stdout=subprocess.PIPE)\n",
    "    res = proc.stdout.read()\n",
    "    _, info = res.splitlines()\n",
    "    infoa = info.split(' ')\n",
    "    num_utts = int(infoa[0])\n",
    "    num_frames = int(infoa[2])\n",
    "    num_labels = int(infoa[4])\n",
    "    num_features = int(infoa[6])\n",
    "    proc = subprocess.Popen('pfile_print -q -i '+filename, shell=True, stdout=subprocess.PIPE)\n",
    "    data = np.loadtxt(proc.stdout)\n",
    "    utt_ids = data[:,0]\n",
    "    frame_ids = data[:,1]\n",
    "    features = data[:,2:(num_features+2)]\n",
    "    labels = data[:, (num_features+2):]\n",
    "    assert labels.shape[1] == num_labels\n",
    "    return utt_ids, frame_ids, features, labels"
   ]
  },
  {
   "cell_type": "code",
   "execution_count": 3,
   "metadata": {
    "collapsed": true
   },
   "outputs": [],
   "source": [
    "pred_file = 'dnn.classify.pickle.gz'\n",
    "pfile = 'test_FBANK_0.pfile'\n",
    "\n",
    "pred_mat = cPickle.load(gzip.open(pred_file, 'rb'))\n",
    "\n",
    "utt_ids, frame_ids, test_data, test_labels = pfile_read(pfile)"
   ]
  },
  {
   "cell_type": "code",
   "execution_count": 26,
   "metadata": {
    "collapsed": true
   },
   "outputs": [],
   "source": [
    "def plot_confusion_matrix(cm, title='Confusion matrix', cmap=plt.cm.Blues):\n",
    "    plt.imshow(cm, interpolation='nearest', cmap=cmap)\n",
    "    plt.title(title)\n",
    "    plt.colorbar()\n",
    "    plt.tight_layout()\n",
    "    plt.ylabel('Truth')\n",
    "    plt.xlabel('Prediction')"
   ]
  },
  {
   "cell_type": "code",
   "execution_count": 29,
   "metadata": {},
   "outputs": [
    {
     "name": "stdout",
     "output_type": "stream",
     "text": [
      "Frame by frame error rate: 16.99%\n"
     ]
    },
    {
     "data": {
      "image/png": "[encoded data removed]",
      "text/plain": [
       "<matplotlib.figure.Figure at 0x10d584650>"
      ]
     },
     "metadata": {},
     "output_type": "display_data"
    }
   ],
   "source": [
    "frame_mpost = np.argmax(pred_mat, axis=1)\n",
    "frame_labels = np.transpose(test_labels).flatten()\n",
    "\n",
    "frame_err = np.count_nonzero(frame_mpost - frame_labels) * 1. / len(frame_mpost)\n",
    "# output the final error rate\n",
    "print('Frame by frame error rate: %2.2f%%' % (frame_err * 100.))\n",
    "\n",
    "frame_cm = metrics.confusion_matrix(frame_labels, frame_mpost)\n",
    "frame_cm_normalized = frame_cm.astype('float') / frame_cm.sum(axis=1)[:, np.newaxis]\n",
    "\n",
    "#plt.figure()\n",
    "plot_confusion_matrix(frame_cm_normalized, title=\"Confusion matrix (frame-by-frame)\")\n",
    "#plt.show()"
   ]
  },
  {
   "cell_type": "code",
   "execution_count": 22,
   "metadata": {},
   "outputs": [],
   "source": [
    "mapping = {}\n",
    "with open('state2id.lst') as f:\n",
    "    for line in f:\n",
    "        parts = line.split(' ')\n",
    "        phoneme = parts[0].split('_')[0]\n",
    "        state = int(parts[1])\n",
    "        mapping[state] = phoneme"
   ]
  },
  {
   "cell_type": "code",
   "execution_count": 31,
   "metadata": {},
   "outputs": [
    {
     "name": "stdout",
     "output_type": "stream",
     "text": [
      "Phoneme error: 9.77%\n"
     ]
    },
    {
     "data": {
      "image/png": "[encoded data removed]",
      "text/plain": [
       "<matplotlib.figure.Figure at 0x10d66ec10>"
      ]
     },
     "metadata": {},
     "output_type": "display_data"
    }
   ],
   "source": [
    "# phoneme level evaluation\n",
    "phoneme_mpost = np.array([mapping[x] for x in frame_mpost])\n",
    "phoneme_labels = np.array([mapping[x] for x in frame_labels])\n",
    "\n",
    "phoneme_err = 1.0 * np.count_nonzero(phoneme_mpost != phoneme_labels) / len(phoneme_mpost)\n",
    "print('Phoneme error: %2.2f%%' % (100.0 * phoneme_err))\n",
    "\n",
    "phoneme_cm = metrics.confusion_matrix(phoneme_labels, phoneme_mpost)\n",
    "phoneme_cm_normalized = phoneme_cm.astype('float') / phoneme_cm.sum(axis=1)[:, np.newaxis]\n",
    "\n",
    "plot_confusion_matrix(phoneme_cm_normalized, title=\"Confusion matrix (phonemes)\")"
   ]
  },
  {
   "cell_type": "code",
   "execution_count": null,
   "metadata": {
    "collapsed": true
   },
   "outputs": [],
   "source": []
  }
 ],
 "metadata": {
  "kernelspec": {
   "display_name": "Python 2",
   "language": "python",
   "name": "python2"
  }
 },
 "nbformat": 4,
 "nbformat_minor": 2
}
