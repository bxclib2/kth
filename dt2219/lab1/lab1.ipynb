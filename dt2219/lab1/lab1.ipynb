{
 "cells": [
  {
   "cell_type": "code",
   "execution_count": 83,
   "metadata": {
    "collapsed": false
   },
   "outputs": [],
   "source": [
    "from proto import *\n",
    "from scipy.signal import butter,lfilter,hamming\n",
    "import numpy as np"
   ]
  },
  {
   "cell_type": "code",
   "execution_count": 8,
   "metadata": {
    "collapsed": false
   },
   "outputs": [],
   "source": [
    "example = np.load('example.npz')['example'].item()"
   ]
  },
  {
   "cell_type": "code",
   "execution_count": null,
   "metadata": {
    "collapsed": false
   },
   "outputs": [],
   "source": []
  },
  {
   "cell_type": "code",
   "execution_count": 124,
   "metadata": {
    "collapsed": false
   },
   "outputs": [
    {
     "name": "stdout",
     "output_type": "stream",
     "text": [
      "0\n"
     ]
    }
   ],
   "source": [
    "coeff = 0.97\n",
    "preemph = lfilter([1, -coeff], 1, signal)\n",
    "print np.count_nonzero(preemph - example['preemph'])"
   ]
  },
  {
   "cell_type": "code",
   "execution_count": 126,
   "metadata": {
    "collapsed": false
   },
   "outputs": [
    {
     "data": {
      "text/plain": [
       "[<matplotlib.lines.Line2D at 0x10b8e1b90>]"
      ]
     },
     "execution_count": 126,
     "metadata": {},
     "output_type": "execute_result"
    },
    {
     "data": {
      "image/png": "[encoded data removed]",
      "text/plain": [
       "<matplotlib.figure.Figure at 0x10f2db8d0>"
      ]
     },
     "metadata": {},
     "output_type": "display_data"
    }
   ],
   "source": [
    "import matplotlib.pyplot as plt\n",
    "%matplotlib inline\n",
    "hamming_window = hamming(preemph.shape[1], sym=False)\n",
    "plt.plot(hamming_window)"
   ]
  },
  {
   "cell_type": "code",
   "execution_count": 165,
   "metadata": {
    "collapsed": false
   },
   "outputs": [
    {
     "name": "stdout",
     "output_type": "stream",
     "text": [
      "True\n"
     ]
    }
   ],
   "source": [
    "windowed = example['preemph'] * hamming_window\n",
    "print np.allclose(windowed, example['windowed'])"
   ]
  },
  {
   "cell_type": "code",
   "execution_count": 95,
   "metadata": {
    "collapsed": true
   },
   "outputs": [],
   "source": [
    "from scipy import fftpack"
   ]
  },
  {
   "cell_type": "code",
   "execution_count": 213,
   "metadata": {
    "collapsed": false
   },
   "outputs": [
    {
     "name": "stdout",
     "output_type": "stream",
     "text": [
      "True\n"
     ]
    }
   ],
   "source": [
    "NFFT = 512\n",
    "spec = np.absolute(fftpack.fft(example['windowed'], NFFT))\n",
    "spec = np.square(spec)\n",
    "print np.allclose(spec, example['spec'])"
   ]
  },
  {
   "cell_type": "code",
   "execution_count": 208,
   "metadata": {
    "collapsed": false
   },
   "outputs": [
    {
     "data": {
      "text/plain": [
       "<matplotlib.collections.QuadMesh at 0x1133b57d0>"
      ]
     },
     "execution_count": 208,
     "metadata": {},
     "output_type": "execute_result"
    },
    {
     "data": {
      "image/png": "[encoded data removed]",
      "text/plain": [
       "<matplotlib.figure.Figure at 0x112a91990>"
      ]
     },
     "metadata": {},
     "output_type": "display_data"
    }
   ],
   "source": [
    "plt.pcolormesh(example['spec'].T)"
   ]
  },
  {
   "cell_type": "code",
   "execution_count": 209,
   "metadata": {
    "collapsed": false
   },
   "outputs": [
    {
     "name": "stdout",
     "output_type": "stream",
     "text": [
      "[[  7.56143209e-01   1.53787705e+02   1.79479691e+02 ...,   1.57766643e+02\n",
      "    1.79479691e+02   1.53787705e+02]\n",
      " [  9.57263405e-01   1.08175131e+02   1.75376470e+02 ...,   1.99246963e+02\n",
      "    1.75376470e+02   1.08175131e+02]\n",
      " [  1.86645429e+02   1.15753092e+02   8.87993538e+01 ...,   1.16787789e+02\n",
      "    8.87993538e+01   1.15753092e+02]\n",
      " ..., \n",
      " [  1.89215902e+02   9.96254485e+02   5.04970955e+02 ...,   1.39739622e+00\n",
      "    5.04970955e+02   9.96254485e+02]\n",
      " [  3.05933713e-01   1.40315380e+03   4.91697509e+03 ...,   4.70058420e+03\n",
      "    4.91697509e+03   1.40315380e+03]\n",
      " [  1.58235759e+02   2.58800006e+02   9.52721806e+01 ...,   1.06766963e+03\n",
      "    9.52721806e+01   2.58800006e+02]]\n",
      "vs\n",
      "[[  7.56143209e-01   8.15722489e+01   7.22154565e+01 ...,   3.33901278e+00\n",
      "    5.94886690e+02   3.93272701e+01]\n",
      " [  9.57263405e-01   4.28763802e+01   6.52987505e+01 ...,   3.08310191e+02\n",
      "    4.85517001e+02   1.77800069e+03]\n",
      " [  1.86645429e+02   7.40578953e+01   4.16951962e+01 ...,   2.36110379e+01\n",
      "    2.49477021e+01   2.80399257e+02]\n",
      " ..., \n",
      " [  1.89215902e+02   8.13432082e+02   1.82822403e+02 ...,   4.39360862e+02\n",
      "    4.94628847e+01   2.34104939e+02]\n",
      " [  3.05933713e-01   1.20140343e+02   1.28301345e+03 ...,   8.90549845e+02\n",
      "    6.03010639e+02   3.30492101e+02]\n",
      " [  1.58235759e+02   7.38265923e+01   1.84973414e+02 ...,   3.89887055e+03\n",
      "    2.70423050e+03   9.75431782e+03]]\n"
     ]
    }
   ],
   "source": [
    "print example['spec']\n",
    "print 'vs'\n",
    "print spec"
   ]
  },
  {
   "cell_type": "code",
   "execution_count": null,
   "metadata": {
    "collapsed": true
   },
   "outputs": [],
   "source": []
  }
 ],
 "metadata": {
  "kernelspec": {
   "display_name": "Python 2",
   "language": "python",
   "name": "python2"
  },
  "language_info": {
   "codemirror_mode": {
    "name": "ipython",
    "version": 2
   },
   "file_extension": ".py",
   "mimetype": "text/x-python",
   "name": "python",
   "nbconvert_exporter": "python",
   "pygments_lexer": "ipython2",
   "version": "2.7.13"
  }
 },
 "nbformat": 4,
 "nbformat_minor": 0
}
