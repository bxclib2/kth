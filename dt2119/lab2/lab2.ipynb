{
 "cells": [
  {
   "cell_type": "code",
   "execution_count": 29,
   "metadata": {
    "collapsed": true
   },
   "outputs": [],
   "source": [
    "import numpy as np\n",
    "import matplotlib.pyplot as plt\n",
    "%matplotlib inline\n",
    "from tools2 import *\n"
   ]
  },
  {
   "cell_type": "code",
   "execution_count": 30,
   "metadata": {
    "collapsed": true
   },
   "outputs": [],
   "source": [
    "models = np.load('lab2_models.npz')['models']\n",
    "tidigits = np.load('lab2_tidigits.npz')['tidigits']"
   ]
  },
  {
   "cell_type": "code",
   "execution_count": 31,
   "metadata": {},
   "outputs": [
    {
     "data": {
      "text/plain": [
       "array([ 1.,  0.,  0.,  0.,  0.,  0.,  0.,  0.,  0.])"
      ]
     },
     "execution_count": 31,
     "metadata": {},
     "output_type": "execute_result"
    }
   ],
   "source": [
    "models[0]['hmm']['startprob'].view()"
   ]
  },
  {
   "cell_type": "code",
   "execution_count": 32,
   "metadata": {},
   "outputs": [
    {
     "data": {
      "text/plain": [
       "array([[ 0.94096471,  0.05903529,  0.        ,  0.        ,  0.        ,\n",
       "         0.        ,  0.        ,  0.        ,  0.        ],\n",
       "       [ 0.        ,  0.96007339,  0.03992661,  0.        ,  0.        ,\n",
       "         0.        ,  0.        ,  0.        ,  0.        ],\n",
       "       [ 0.        ,  0.        ,  0.97109309,  0.02890691,  0.        ,\n",
       "         0.        ,  0.        ,  0.        ,  0.        ],\n",
       "       [ 0.        ,  0.        ,  0.        ,  0.9751941 ,  0.0248059 ,\n",
       "         0.        ,  0.        ,  0.        ,  0.        ],\n",
       "       [ 0.        ,  0.        ,  0.        ,  0.        ,  0.92895844,\n",
       "         0.07104156,  0.        ,  0.        ,  0.        ],\n",
       "       [ 0.        ,  0.        ,  0.        ,  0.        ,  0.        ,\n",
       "         0.91749739,  0.08250261,  0.        ,  0.        ],\n",
       "       [ 0.        ,  0.        ,  0.        ,  0.        ,  0.        ,\n",
       "         0.        ,  0.96006789,  0.03993211,  0.        ],\n",
       "       [ 0.        ,  0.        ,  0.        ,  0.        ,  0.        ,\n",
       "         0.        ,  0.        ,  0.93711848,  0.06288152],\n",
       "       [ 0.        ,  0.        ,  0.        ,  0.        ,  0.        ,\n",
       "         0.        ,  0.        ,  0.        ,  1.        ]])"
      ]
     },
     "execution_count": 32,
     "metadata": {},
     "output_type": "execute_result"
    }
   ],
   "source": [
    "models[0]['hmm']['transmat'].view()"
   ]
  },
  {
   "cell_type": "code",
   "execution_count": 33,
   "metadata": {
    "collapsed": true
   },
   "outputs": [],
   "source": [
    "examples = np.load('lab2_example.npz')['example']\n",
    "example = examples.item()"
   ]
  },
  {
   "cell_type": "code",
   "execution_count": 34,
   "metadata": {},
   "outputs": [
    {
     "name": "stdout",
     "output_type": "stream",
     "text": [
      "True\n",
      "222\n"
     ]
    },
    {
     "data": {
      "text/plain": [
       "<matplotlib.collections.QuadMesh at 0x107fb7310>"
      ]
     },
     "execution_count": 34,
     "metadata": {},
     "output_type": "execute_result"
    },
    {
     "data": {
      "image/png": "[encoded data removed]",
      "text/plain": [
       "<matplotlib.figure.Figure at 0x107fb7390>"
      ]
     },
     "metadata": {},
     "output_type": "display_data"
    }
   ],
   "source": [
    "hmm_model = models[0]['hmm']\n",
    "means = hmm_model['means']\n",
    "covars = hmm_model['covars']\n",
    "r = log_multivariate_normal_density_diag(example['mfcc'], means, covars)\n",
    "print np.allclose(example['hmm_obsloglik'], r)\n",
    "print np.count_nonzero(r - example['hmm_obsloglik'])\n",
    "plt.figure(figsize=(15,3))\n",
    "plt.pcolormesh(r.T, cmap='jet')"
   ]
  },
  {
   "cell_type": "code",
   "execution_count": 35,
   "metadata": {},
   "outputs": [
    {
     "name": "stdout",
     "output_type": "stream",
     "text": [
      "(88, 9)\n",
      "True\n"
     ]
    },
    {
     "data": {
      "text/plain": [
       "<matplotlib.colorbar.Colorbar at 0x10603fa10>"
      ]
     },
     "execution_count": 35,
     "metadata": {},
     "output_type": "execute_result"
    },
    {
     "data": {
      "image/png": "[encoded data removed]",
      "text/plain": [
       "<matplotlib.figure.Figure at 0x107d51890>"
      ]
     },
     "metadata": {},
     "output_type": "display_data"
    }
   ],
   "source": [
    "gmm_model = models[0]['gmm']\n",
    "means = gmm_model['means']\n",
    "covars = gmm_model['covars']\n",
    "log_emlik = log_multivariate_normal_density_diag(example['mfcc'], means, covars)\n",
    "print log_emlik.shape\n",
    "print np.allclose(example['gmm_obsloglik'], log_emlik)\n",
    "plt.figure(figsize=(15,3))\n",
    "plt.pcolormesh(log_emlik.T, cmap='jet')\n",
    "plt.colorbar()"
   ]
  },
  {
   "cell_type": "code",
   "execution_count": 36,
   "metadata": {
    "collapsed": true
   },
   "outputs": [],
   "source": [
    "def gmmloglik(log_emlik, weights):\n",
    "    \"\"\"Log Likelihood for a GMM model based on Multivariate Normal Distribution.\n",
    "\n",
    "    Args:\n",
    "        log_emlik: array like, shape (N, K).\n",
    "            contains the log likelihoods for each of N observations and\n",
    "            each of K distributions\n",
    "        weights:   weight vector for the K components in the mixture\n",
    "\n",
    "    Output:\n",
    "        gmmloglik: scalar, log likelihood of data given the GMM model.\n",
    "    \"\"\"\n",
    "    #return np.sum(np.log(np.dot(np.exp(log_emlik), weights)))\n",
    "    l=log_emlik.shape[0]\n",
    "    gmmloglik = 0\n",
    "    for i in xrange(l):\n",
    "        gmmloglik += logsumexp(np.log(weights) + log_emlik[i,:])\n",
    "    return gmmloglik"
   ]
  },
  {
   "cell_type": "code",
   "execution_count": 37,
   "metadata": {
    "collapsed": true
   },
   "outputs": [],
   "source": [
    "weights = models[0]['gmm']['weights']\n",
    "r = gmmloglik(log_emlik,  weights)"
   ]
  },
  {
   "cell_type": "markdown",
   "metadata": {},
   "source": [
    "# GMM Maximum Likelihood"
   ]
  },
  {
   "cell_type": "code",
   "execution_count": 38,
   "metadata": {},
   "outputs": [
    {
     "name": "stdout",
     "output_type": "stream",
     "text": [
      "1.0\n"
     ]
    }
   ],
   "source": [
    "correct = 0\n",
    "for tidigit in tidigits:\n",
    "    digit = tidigit['digit']\n",
    "    best_model = None\n",
    "    best_score = float('-inf')\n",
    "    for model_idx in xrange(len(models)):\n",
    "        model = models[model_idx]\n",
    "        gmm_model = model['gmm']\n",
    "        means = gmm_model['means']\n",
    "        covars = gmm_model['covars']\n",
    "        weights = gmm_model['weights']\n",
    "        \n",
    "        log_emlik = log_multivariate_normal_density_diag(tidigit['mfcc'], means, covars)\n",
    "        score = gmmloglik(log_emlik, weights)\n",
    "        if best_score < score:\n",
    "            best_score = score\n",
    "            best_model = model\n",
    "            \n",
    "    if digit == best_model['digit']:\n",
    "        correct += 1\n",
    "            \n",
    "accuracy = float(correct) / len(tidigits)\n",
    "print accuracy"
   ]
  },
  {
   "cell_type": "code",
   "execution_count": 39,
   "metadata": {
    "collapsed": true
   },
   "outputs": [],
   "source": [
    "def forward(log_emlik, log_startprob, log_transmat):\n",
    "    \"\"\"Forward probabilities in log domain.\n",
    "\n",
    "    Args:\n",
    "        log_emlik: NxM array of emission log likelihoods, N frames, M states\n",
    "        log_startprob: log probability to start in state i\n",
    "        log_transmat: log transition probability from state i to j\n",
    "\n",
    "    Output:\n",
    "        forward_prob: NxM array of forward log probabilities for each of the M states in the model\n",
    "    \"\"\"\n",
    "    N, M = log_emlik.shape\n",
    "    forward_prob = np.zeros((N,M))\n",
    "    forward_prob[0,:] = log_startprob + log_emlik[0]\n",
    "    for n in xrange(1, N):\n",
    "        for j in xrange(M):\n",
    "            forward_prob[n,j] = logsumexp(forward_prob[n-1,:] + log_transmat[:,j]) + log_emlik[n,j]\n",
    "    return forward_prob"
   ]
  },
  {
   "cell_type": "code",
   "execution_count": 40,
   "metadata": {},
   "outputs": [
    {
     "name": "stdout",
     "output_type": "stream",
     "text": [
      "True\n"
     ]
    },
    {
     "name": "stderr",
     "output_type": "stream",
     "text": [
      "/Users/hwaxxer/.virtualenvs/lab/lib/python2.7/site-packages/ipykernel_launcher.py:6: RuntimeWarning: divide by zero encountered in log\n",
      "  \n",
      "/Users/hwaxxer/.virtualenvs/lab/lib/python2.7/site-packages/ipykernel_launcher.py:7: RuntimeWarning: divide by zero encountered in log\n",
      "  import sys\n"
     ]
    }
   ],
   "source": [
    "model = models[0]\n",
    "hmm_model = model['hmm']\n",
    "means = hmm_model['means']\n",
    "covars = hmm_model['covars']\n",
    "log_emlik = log_multivariate_normal_density_diag(example['mfcc'], means, covars)\n",
    "log_startprob = np.log(hmm_model['startprob'])\n",
    "log_transmat = np.log(hmm_model['transmat'])\n",
    "alpha = forward(log_emlik, log_startprob, log_transmat)\n",
    "print np.allclose(alpha, example['hmm_logalpha'])"
   ]
  },
  {
   "cell_type": "code",
   "execution_count": 41,
   "metadata": {},
   "outputs": [
    {
     "data": {
      "text/plain": [
       "<matplotlib.collections.QuadMesh at 0x107eeaad0>"
      ]
     },
     "execution_count": 41,
     "metadata": {},
     "output_type": "execute_result"
    },
    {
     "data": {
      "image/png": "[encoded data removed]",
      "text/plain": [
       "<matplotlib.figure.Figure at 0x107c2e1d0>"
      ]
     },
     "metadata": {},
     "output_type": "display_data"
    }
   ],
   "source": [
    "plt.figure(figsize=(15,3))\n",
    "plt.pcolormesh(alpha, cmap='jet')"
   ]
  },
  {
   "cell_type": "markdown",
   "metadata": {},
   "source": [
    "# HMM Maximum Likelihood"
   ]
  },
  {
   "cell_type": "markdown",
   "metadata": {
    "collapsed": true
   },
   "source": [
    "$\\alpha_n(j)$ is the probability of observing the sequence up until timestep n, and being in state j at timestep n.\n",
    "\n",
    "We marginalize over the possible states to obtain the total probability of the observation sequence up until timestep n given the parameters.\n",
    "\n",
    "\\begin{equation}\n",
    "P(X|\\theta) = \\sum_j^M P(x_0, ..., x_n, z_n=s_j | \\theta) = \\sum_j^M \\alpha_n(j)\n",
    "\\end{equation}"
   ]
  },
  {
   "cell_type": "code",
   "execution_count": 42,
   "metadata": {},
   "outputs": [
    {
     "name": "stdout",
     "output_type": "stream",
     "text": [
      "-4362.86832817\n",
      "-4362.86832817\n",
      "True\n"
     ]
    }
   ],
   "source": [
    "hmm_loglik = logsumexp(alpha[-1])\n",
    "print hmm_loglik\n",
    "print example['hmm_loglik']\n",
    "print np.allclose(hmm_loglik, example['hmm_loglik'])"
   ]
  },
  {
   "cell_type": "code",
   "execution_count": 43,
   "metadata": {},
   "outputs": [
    {
     "name": "stderr",
     "output_type": "stream",
     "text": [
      "/Users/hwaxxer/.virtualenvs/lab/lib/python2.7/site-packages/ipykernel_launcher.py:15: RuntimeWarning: divide by zero encountered in log\n",
      "  from ipykernel import kernelapp as app\n",
      "/Users/hwaxxer/.virtualenvs/lab/lib/python2.7/site-packages/ipykernel_launcher.py:16: RuntimeWarning: divide by zero encountered in log\n",
      "  app.launch_new_instance()\n"
     ]
    },
    {
     "name": "stdout",
     "output_type": "stream",
     "text": [
      "0.954545454545\n"
     ]
    }
   ],
   "source": [
    "correct = 0\n",
    "alphas = []\n",
    "for tidigit in tidigits:\n",
    "    digit = tidigit['digit']\n",
    "    best_model = None\n",
    "    best_score = float('-inf')\n",
    "    for model_idx in xrange(len(models)):\n",
    "        model = models[model_idx]\n",
    "        hmm_model = model['hmm']\n",
    "        means = hmm_model['means']\n",
    "        covars = hmm_model['covars']\n",
    "        \n",
    "        log_emlik = log_multivariate_normal_density_diag(tidigit['mfcc'], means, covars)\n",
    "        \n",
    "        log_startprob = np.log(hmm_model['startprob'])\n",
    "        log_transmat = np.log(hmm_model['transmat'])\n",
    "        alpha = forward(log_emlik, log_startprob, log_transmat)\n",
    "        alphas.append(alpha)\n",
    "        score = logsumexp(alpha[-1])\n",
    "        if best_score < score:\n",
    "            best_score = score\n",
    "            best_model = model\n",
    "            \n",
    "    if digit == best_model['digit']:\n",
    "        correct += 1\n",
    "            \n",
    "accuracy = float(correct) / len(tidigits)\n",
    "print accuracy"
   ]
  },
  {
   "cell_type": "code",
   "execution_count": 44,
   "metadata": {},
   "outputs": [
    {
     "name": "stdout",
     "output_type": "stream",
     "text": [
      "(91, 9)\n",
      "-52.16120975\n"
     ]
    },
    {
     "data": {
      "text/plain": [
       "<matplotlib.colorbar.Colorbar at 0x108995710>"
      ]
     },
     "execution_count": 44,
     "metadata": {},
     "output_type": "execute_result"
    },
    {
     "data": {
      "image/png": "[encoded data removed]",
      "text/plain": [
       "<matplotlib.figure.Figure at 0x1086d9250>"
      ]
     },
     "metadata": {},
     "output_type": "display_data"
    }
   ],
   "source": [
    "import matplotlib as mpl\n",
    "print alphas[0].shape\n",
    "plt.figure(figsize=(15,3))\n",
    "# plt.imshow(alphas[0].T, cmap='jet')\n",
    "print alphas[0].max()\n",
    "\n",
    "plt.pcolormesh(np.ma.masked_invalid(np.atleast_2d(alphas[0])).T, cmap='jet')\n",
    "plt.colorbar()"
   ]
  },
  {
   "cell_type": "markdown",
   "metadata": {},
   "source": [
    "# HMM Maximum Likelihood (as Gaussians with equal weights)"
   ]
  },
  {
   "cell_type": "code",
   "execution_count": 45,
   "metadata": {},
   "outputs": [
    {
     "name": "stdout",
     "output_type": "stream",
     "text": [
      "1.0\n"
     ]
    }
   ],
   "source": [
    "correct = 0\n",
    "for tidigit in tidigits:\n",
    "    digit = tidigit['digit']\n",
    "    best_model = None\n",
    "    best_score = float('-inf')\n",
    "    for model_idx in xrange(len(models)):\n",
    "        model = models[model_idx]\n",
    "        hmm_model = model['hmm']\n",
    "        means = hmm_model['means']\n",
    "        covars = hmm_model['covars']\n",
    "        weights = np.ones(len(means)) / len(means)\n",
    "        \n",
    "        log_emlik = log_multivariate_normal_density_diag(tidigit['mfcc'], means, covars)\n",
    "        score = gmmloglik(log_emlik, weights)\n",
    "        if best_score < score:\n",
    "            best_score = score\n",
    "            best_model = model\n",
    "            \n",
    "    if digit == best_model['digit']:\n",
    "        correct += 1\n",
    "            \n",
    "accuracy = float(correct) / len(tidigits)\n",
    "print accuracy"
   ]
  },
  {
   "cell_type": "code",
   "execution_count": 46,
   "metadata": {
    "collapsed": true
   },
   "outputs": [],
   "source": [
    "def viterbi(log_emlik, log_startprob, log_transmat):\n",
    "    \"\"\"Viterbi path.\n",
    "\n",
    "    Args:\n",
    "        log_emlik: NxM array of emission log likelihoods, N frames, M states\n",
    "        log_startprob: log probability to start in state i\n",
    "        log_transmat: transition log probability from state i to j\n",
    "\n",
    "    Output:\n",
    "        viterbi_loglik: log likelihood of the best path\n",
    "        viterbi_path: best path\n",
    "    \"\"\"\n",
    "    N, M = log_emlik.shape\n",
    "    viterbi_path = np.empty((N), dtype=np.int)\n",
    "    viterbi_loglik = 0\n",
    "    V = np.zeros((N,M))\n",
    "    B = np.zeros((N,M))\n",
    "    \n",
    "    for j in xrange(M):\n",
    "        V[0, j] = log_startprob[j] + log_emlik[0,j]\n",
    "        \n",
    "    for n in xrange(1,N):\n",
    "        for j in xrange(M):\n",
    "            V[n, j] = np.max(V[n-1,:] + log_transmat[:,j]) + log_emlik[n,j]\n",
    "            B[n, j] = np.argmax(V[n-1,:] + log_transmat[:,j])\n",
    "    \n",
    "    viterbi_path[-1] = np.argmax(V[-1, :])\n",
    "    viterbi_loglik = V[N-1, viterbi_path[-1]]\n",
    "    \n",
    "    for n in xrange(0,N-1):\n",
    "        viterbi_path[n] += np.max(V[n-1,:])\n",
    "    \n",
    "    for n in reversed(xrange(N-1)):\n",
    "        for j in xrange(M):\n",
    "            viterbi_path[n] = B[n+1, viterbi_path[n+1]]\n",
    "    return (viterbi_loglik, viterbi_path)"
   ]
  },
  {
   "cell_type": "code",
   "execution_count": 47,
   "metadata": {},
   "outputs": [
    {
     "name": "stdout",
     "output_type": "stream",
     "text": [
      "True\n",
      "True\n"
     ]
    },
    {
     "name": "stderr",
     "output_type": "stream",
     "text": [
      "/Users/hwaxxer/.virtualenvs/lab/lib/python2.7/site-packages/ipykernel_launcher.py:6: RuntimeWarning: divide by zero encountered in log\n",
      "  \n",
      "/Users/hwaxxer/.virtualenvs/lab/lib/python2.7/site-packages/ipykernel_launcher.py:7: RuntimeWarning: divide by zero encountered in log\n",
      "  import sys\n"
     ]
    }
   ],
   "source": [
    "model = models[0]\n",
    "hmm_model = model['hmm']\n",
    "means = hmm_model['means']\n",
    "covars = hmm_model['covars']\n",
    "log_emlik = log_multivariate_normal_density_diag(example['mfcc'], means, covars)\n",
    "log_startprob = np.log(hmm_model['startprob'])\n",
    "log_transmat = np.log(hmm_model['transmat'])\n",
    "hmm_vloglik = viterbi(log_emlik, log_startprob, log_transmat)\n",
    "print np.allclose(hmm_vloglik[0], example['hmm_vloglik'][0])\n",
    "print np.allclose(hmm_vloglik[1], example['hmm_vloglik'][1])"
   ]
  },
  {
   "cell_type": "code",
   "execution_count": 48,
   "metadata": {},
   "outputs": [
    {
     "data": {
      "text/plain": [
       "<matplotlib.colorbar.Colorbar at 0x108b862d0>"
      ]
     },
     "execution_count": 48,
     "metadata": {},
     "output_type": "execute_result"
    },
    {
     "data": {
      "image/png": "[encoded data removed]",
      "text/plain": [
       "<matplotlib.figure.Figure at 0x1089bb410>"
      ]
     },
     "metadata": {},
     "output_type": "display_data"
    }
   ],
   "source": [
    "plt.figure(figsize=(15,3))\n",
    "plt.pcolormesh(np.ma.masked_invalid(np.atleast_2d(alphas[0])).T, cmap='jet')\n",
    "plt.plot(hmm_vloglik[-1], c='w')\n",
    "plt.colorbar()"
   ]
  },
  {
   "cell_type": "markdown",
   "metadata": {},
   "source": [
    "# HMM Viterbi Maximum Likelihood"
   ]
  },
  {
   "cell_type": "code",
   "execution_count": 49,
   "metadata": {},
   "outputs": [
    {
     "name": "stderr",
     "output_type": "stream",
     "text": [
      "/Users/hwaxxer/.virtualenvs/lab/lib/python2.7/site-packages/ipykernel_launcher.py:14: RuntimeWarning: divide by zero encountered in log\n",
      "  \n",
      "/Users/hwaxxer/.virtualenvs/lab/lib/python2.7/site-packages/ipykernel_launcher.py:15: RuntimeWarning: divide by zero encountered in log\n",
      "  from ipykernel import kernelapp as app\n"
     ]
    },
    {
     "name": "stdout",
     "output_type": "stream",
     "text": [
      "0.954545454545\n"
     ]
    }
   ],
   "source": [
    "correct = 0\n",
    "for tidigit in tidigits:\n",
    "    digit = tidigit['digit']\n",
    "    best_model = None\n",
    "    best_score = float('-inf')\n",
    "    for model_idx in xrange(len(models)):\n",
    "        model = models[model_idx]\n",
    "        hmm_model = model['hmm']\n",
    "        means = hmm_model['means']\n",
    "        covars = hmm_model['covars']\n",
    "        \n",
    "        log_emlik = log_multivariate_normal_density_diag(tidigit['mfcc'], means, covars)\n",
    "        \n",
    "        log_startprob = np.log(hmm_model['startprob'])\n",
    "        log_transmat = np.log(hmm_model['transmat'])\n",
    "        score, path = viterbi(log_emlik, log_startprob, log_transmat)\n",
    "        if best_score < score:\n",
    "            best_score = score\n",
    "            best_model = model\n",
    "            \n",
    "    if digit == best_model['digit']:\n",
    "        correct += 1\n",
    "            \n",
    "accuracy = float(correct) / len(tidigits)\n",
    "print accuracy"
   ]
  },
  {
   "cell_type": "code",
   "execution_count": 50,
   "metadata": {
    "collapsed": true
   },
   "outputs": [],
   "source": [
    "def backward(log_emlik, log_startprob, log_transmat):\n",
    "    \"\"\"Backward probabilities in log domain.\n",
    "\n",
    "    Args:\n",
    "        log_emlik: NxM array of emission log likelihoods, N frames, M states\n",
    "        log_startprob: log probability to start in state i\n",
    "        log_transmat: transition log probability from state i to j\n",
    "\n",
    "    Output:\n",
    "        backward_prob: NxM array of backward log probabilities for each of the M states in the model\n",
    "    \"\"\"\n",
    "    N, M = log_emlik.shape\n",
    "    beta = np.empty((N,M))\n",
    "    beta[-1,:] = 0\n",
    "    for n in reversed(xrange(N-1)):\n",
    "        for i in xrange(M):\n",
    "            beta[n,i] = logsumexp(log_transmat[i,:] + log_emlik[n+1,:] + beta[n+1,:])\n",
    "    return beta"
   ]
  },
  {
   "cell_type": "code",
   "execution_count": 51,
   "metadata": {},
   "outputs": [
    {
     "name": "stderr",
     "output_type": "stream",
     "text": [
      "/Users/hwaxxer/.virtualenvs/lab/lib/python2.7/site-packages/ipykernel_launcher.py:6: RuntimeWarning: divide by zero encountered in log\n",
      "  \n",
      "/Users/hwaxxer/.virtualenvs/lab/lib/python2.7/site-packages/ipykernel_launcher.py:7: RuntimeWarning: divide by zero encountered in log\n",
      "  import sys\n"
     ]
    },
    {
     "data": {
      "text/plain": [
       "True"
      ]
     },
     "execution_count": 51,
     "metadata": {},
     "output_type": "execute_result"
    }
   ],
   "source": [
    "model = models[0]\n",
    "hmm_model = model['hmm']\n",
    "means = hmm_model['means']\n",
    "covars = hmm_model['covars']\n",
    "log_emlik = log_multivariate_normal_density_diag(example['mfcc'], means, covars)\n",
    "log_startprob = np.log(hmm_model['startprob'])\n",
    "log_transmat = np.log(hmm_model['transmat'])\n",
    "b = backward(log_emlik, log_startprob, log_transmat)\n",
    "\n",
    "np.allclose(b, example['hmm_logbeta'])"
   ]
  },
  {
   "cell_type": "code",
   "execution_count": 52,
   "metadata": {},
   "outputs": [
    {
     "data": {
      "text/plain": [
       "<matplotlib.collections.QuadMesh at 0x104860c10>"
      ]
     },
     "execution_count": 52,
     "metadata": {},
     "output_type": "execute_result"
    },
    {
     "data": {
      "image/png": "[encoded data removed]",
      "text/plain": [
       "<matplotlib.figure.Figure at 0x108ba9090>"
      ]
     },
     "metadata": {},
     "output_type": "display_data"
    }
   ],
   "source": [
    "plt.figure(figsize=(15,3))\n",
    "plt.pcolormesh(b.T, cmap='jet')"
   ]
  },
  {
   "cell_type": "code",
   "execution_count": null,
   "metadata": {
    "collapsed": true
   },
   "outputs": [],
   "source": []
  },
  {
   "cell_type": "code",
   "execution_count": null,
   "metadata": {
    "collapsed": true
   },
   "outputs": [],
   "source": []
  }
 ],
 "metadata": {
  "kernelspec": {
   "display_name": "Python 2",
   "language": "python",
   "name": "python2"
  },
  "language_info": {
   "codemirror_mode": {
    "name": "ipython",
    "version": 2
   },
   "file_extension": ".py",
   "mimetype": "text/x-python",
   "name": "python",
   "nbconvert_exporter": "python",
   "pygments_lexer": "ipython2",
   "version": "2.7.10"
  }
 },
 "nbformat": 4,
 "nbformat_minor": 2
}
